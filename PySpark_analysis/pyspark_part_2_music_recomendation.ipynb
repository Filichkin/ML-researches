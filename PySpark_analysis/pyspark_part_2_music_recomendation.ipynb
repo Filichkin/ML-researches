{
 "cells": [
  {
   "cell_type": "markdown",
   "id": "a3c0b37e",
   "metadata": {
    "toc": true
   },
   "source": [
    "<h1>Recommending Music and the Audioscrobbler Dataset<span class=\"tocSkip\"></span></h1>\n",
    "<div class=\"toc\"><ul class=\"toc-item\"></ul></div>"
   ]
  },
  {
   "cell_type": "code",
   "execution_count": 1,
   "id": "cf0fc4c9",
   "metadata": {},
   "outputs": [],
   "source": [
    "from pyspark.sql import SparkSession\n",
    "from pyspark.ml.recommendation import ALS\n",
    "from pyspark.sql.functions import split, min, max\n",
    "from pyspark.sql.types import IntegerType, StringType\n",
    "from pyspark.sql.functions import col\n",
    "from pyspark.sql.functions import broadcast, when\n",
    "from pyspark.ml.evaluation import BinaryClassificationEvaluator\n",
    "from pyspark.sql.functions import sum as _sum\n",
    "from pprint import pprint\n",
    "from itertools import product\n",
    "from pyspark.sql.functions import col, lit, count, mean, coalesce\n",
    "from pyspark.sql import DataFrame\n",
    "from typing import List\n",
    "import random"
   ]
  },
  {
   "cell_type": "code",
   "execution_count": null,
   "id": "aae25338",
   "metadata": {},
   "outputs": [],
   "source": [
    "spark = (SparkSession\n",
    "  .builder\n",
    "  .appName('App')\n",
    "  .config('spark.driver.memory', '4g')\n",
    "  .getOrCreate())"
   ]
  },
  {
   "cell_type": "code",
   "execution_count": 6,
   "id": "41dd3cc2",
   "metadata": {},
   "outputs": [],
   "source": [
    "raw_user_artist_path = '/Users/alexfil/Desktop/git_hub/spark/data/user_artist_data.txt'"
   ]
  },
  {
   "cell_type": "code",
   "execution_count": 7,
   "id": "74f9c410",
   "metadata": {},
   "outputs": [],
   "source": [
    "raw_user_artist_data = spark.read.text(raw_user_artist_path)"
   ]
  },
  {
   "cell_type": "code",
   "execution_count": 8,
   "id": "c9f4223f",
   "metadata": {},
   "outputs": [
    {
     "name": "stdout",
     "output_type": "stream",
     "text": [
      "+-------------------+\n",
      "|              value|\n",
      "+-------------------+\n",
      "|       1000002 1 55|\n",
      "| 1000002 1000006 33|\n",
      "|  1000002 1000007 8|\n",
      "|1000002 1000009 144|\n",
      "|1000002 1000010 314|\n",
      "+-------------------+\n",
      "only showing top 5 rows\n",
      "\n"
     ]
    }
   ],
   "source": [
    "raw_user_artist_data.show(5)"
   ]
  },
  {
   "cell_type": "code",
   "execution_count": 9,
   "id": "a16b2f33",
   "metadata": {},
   "outputs": [],
   "source": [
    "raw_artist_data = spark.read.text('/Users/alexfil/Desktop/git_hub/spark/data/artist_data.txt')"
   ]
  },
  {
   "cell_type": "code",
   "execution_count": 10,
   "id": "b0688c97",
   "metadata": {},
   "outputs": [
    {
     "name": "stdout",
     "output_type": "stream",
     "text": [
      "+--------------------+\n",
      "|               value|\n",
      "+--------------------+\n",
      "|1134999\\t06Crazy ...|\n",
      "|6821360\\tPang Nak...|\n",
      "|10113088\\tTerfel,...|\n",
      "|10151459\\tThe Fla...|\n",
      "|6826647\\tBodensta...|\n",
      "+--------------------+\n",
      "only showing top 5 rows\n",
      "\n"
     ]
    }
   ],
   "source": [
    "raw_artist_data.show(5)"
   ]
  },
  {
   "cell_type": "code",
   "execution_count": 11,
   "id": "445d2966",
   "metadata": {},
   "outputs": [],
   "source": [
    "raw_artist_alias = spark.read.text('/Users/alexfil/Desktop/git_hub/spark/data/artist_alias.txt')"
   ]
  },
  {
   "cell_type": "code",
   "execution_count": 12,
   "id": "12482567",
   "metadata": {},
   "outputs": [
    {
     "name": "stdout",
     "output_type": "stream",
     "text": [
      "+-----------------+\n",
      "|            value|\n",
      "+-----------------+\n",
      "| 1092764\\t1000311|\n",
      "| 1095122\\t1000557|\n",
      "| 6708070\\t1007267|\n",
      "|10088054\\t1042317|\n",
      "| 1195917\\t1042317|\n",
      "+-----------------+\n",
      "only showing top 5 rows\n",
      "\n"
     ]
    }
   ],
   "source": [
    "raw_artist_alias.show(5)"
   ]
  },
  {
   "cell_type": "markdown",
   "id": "1e777475",
   "metadata": {},
   "source": [
    "# Preparing the Data"
   ]
  },
  {
   "cell_type": "code",
   "execution_count": 13,
   "id": "1b73d7d3",
   "metadata": {},
   "outputs": [
    {
     "name": "stdout",
     "output_type": "stream",
     "text": [
      "+-------------------+\n",
      "|              value|\n",
      "+-------------------+\n",
      "|       1000002 1 55|\n",
      "| 1000002 1000006 33|\n",
      "|  1000002 1000007 8|\n",
      "|1000002 1000009 144|\n",
      "|1000002 1000010 314|\n",
      "|  1000002 1000013 8|\n",
      "| 1000002 1000014 42|\n",
      "| 1000002 1000017 69|\n",
      "|1000002 1000024 329|\n",
      "|  1000002 1000025 1|\n",
      "+-------------------+\n",
      "only showing top 10 rows\n",
      "\n"
     ]
    }
   ],
   "source": [
    "raw_user_artist_data.show(10)"
   ]
  },
  {
   "cell_type": "code",
   "execution_count": 14,
   "id": "096974b8",
   "metadata": {},
   "outputs": [],
   "source": [
    "user_artist_df = raw_user_artist_data.withColumn('user',\n",
    "                                                 split(raw_user_artist_data['value'], ' ').\\\n",
    "                                                 getItem(0).\\\n",
    "                                                 cast(IntegerType()))"
   ]
  },
  {
   "cell_type": "code",
   "execution_count": 15,
   "id": "dfc2ee7d",
   "metadata": {},
   "outputs": [],
   "source": [
    "user_artist_df = user_artist_df.withColumn('artist',\n",
    "                                                 split(raw_user_artist_data['value'], ' ').\\\n",
    "                                                 getItem(1).\\\n",
    "                                                 cast(IntegerType()))\n",
    "user_artist_df = user_artist_df.withColumn('count',\n",
    "                                                 split(raw_user_artist_data['value'], ' ').\\\n",
    "                                                 getItem(2).\\\n",
    "                                                 cast(IntegerType())).drop('value')"
   ]
  },
  {
   "cell_type": "code",
   "execution_count": 16,
   "id": "2b36749c",
   "metadata": {},
   "outputs": [
    {
     "name": "stderr",
     "output_type": "stream",
     "text": [
      "\r",
      "[Stage 4:>                                                          (0 + 4) / 4]\r"
     ]
    },
    {
     "name": "stdout",
     "output_type": "stream",
     "text": [
      "+---------+---------+-----------+-----------+\n",
      "|min(user)|max(user)|min(artist)|max(artist)|\n",
      "+---------+---------+-----------+-----------+\n",
      "|       90|  2443548|          1|   10794401|\n",
      "+---------+---------+-----------+-----------+\n",
      "\n"
     ]
    },
    {
     "name": "stderr",
     "output_type": "stream",
     "text": [
      "\r",
      "                                                                                \r"
     ]
    }
   ],
   "source": [
    "user_artist_df.select([min('user'), max('user'), min('artist'), max('artist')]).show()"
   ]
  },
  {
   "cell_type": "code",
   "execution_count": 17,
   "id": "1c8ffa89",
   "metadata": {},
   "outputs": [],
   "source": [
    "artist_by_id = raw_artist_data.withColumn('id', split(col('value'),\n",
    "                                                     '\\s+', 2).\\\n",
    "                                         getItem(0).\\\n",
    "                                         cast(IntegerType()))\n",
    "artist_by_id = artist_by_id.withColumn('name', split(col('value'),\n",
    "                                                     '\\s+', 2).\\\n",
    "                                         getItem(1).\\\n",
    "                                         cast(StringType())).drop('value')\n",
    "                                        "
   ]
  },
  {
   "cell_type": "code",
   "execution_count": 18,
   "id": "414c033c",
   "metadata": {},
   "outputs": [
    {
     "name": "stdout",
     "output_type": "stream",
     "text": [
      "+--------+--------------------+\n",
      "|      id|                name|\n",
      "+--------+--------------------+\n",
      "| 1134999|        06Crazy Life|\n",
      "| 6821360|        Pang Nakarin|\n",
      "|10113088|Terfel, Bartoli- ...|\n",
      "|10151459| The Flaming Sidebur|\n",
      "| 6826647|   Bodenstandig 3000|\n",
      "+--------+--------------------+\n",
      "only showing top 5 rows\n",
      "\n"
     ]
    }
   ],
   "source": [
    "artist_by_id.show(5)"
   ]
  },
  {
   "cell_type": "code",
   "execution_count": 19,
   "id": "c7433b3d",
   "metadata": {},
   "outputs": [],
   "source": [
    "artist_alias = raw_artist_alias.withColumn('artist',\n",
    "                                           split(col('value'), '\\s+').\\\n",
    "                                           getItem(0).\\\n",
    "                                           cast(IntegerType())).\\\n",
    "                                withColumn('alias',\n",
    "                                           split(col('value'), '\\s+').\\\n",
    "                                           getItem(1).\\\n",
    "                                           cast(StringType())).drop('value')"
   ]
  },
  {
   "cell_type": "code",
   "execution_count": 20,
   "id": "3614c3b6",
   "metadata": {},
   "outputs": [
    {
     "name": "stdout",
     "output_type": "stream",
     "text": [
      "+--------+-------+\n",
      "|  artist|  alias|\n",
      "+--------+-------+\n",
      "| 1092764|1000311|\n",
      "| 1095122|1000557|\n",
      "| 6708070|1007267|\n",
      "|10088054|1042317|\n",
      "| 1195917|1042317|\n",
      "+--------+-------+\n",
      "only showing top 5 rows\n",
      "\n"
     ]
    }
   ],
   "source": [
    "artist_alias.show(5)"
   ]
  },
  {
   "cell_type": "code",
   "execution_count": 21,
   "id": "97a6b967",
   "metadata": {},
   "outputs": [
    {
     "name": "stderr",
     "output_type": "stream",
     "text": [
      "[Stage 10:>                                                         (0 + 3) / 3]\r"
     ]
    },
    {
     "name": "stdout",
     "output_type": "stream",
     "text": [
      "+-------+--------------+\n",
      "|     id|          name|\n",
      "+-------+--------------+\n",
      "|1000311| Steve Winwood|\n",
      "|1092764|Winwood, Steve|\n",
      "+-------+--------------+\n",
      "\n"
     ]
    },
    {
     "name": "stderr",
     "output_type": "stream",
     "text": [
      "\r",
      "[Stage 10:======================================>                   (2 + 1) / 3]\r",
      "\r",
      "                                                                                \r"
     ]
    }
   ],
   "source": [
    "artist_by_id.filter(artist_by_id.id.isin(1092764, 1000311)).show()"
   ]
  },
  {
   "cell_type": "code",
   "execution_count": 22,
   "id": "d7981ff7",
   "metadata": {},
   "outputs": [],
   "source": [
    "train_data = user_artist_df.join(broadcast(artist_alias),\n",
    "                                'artist', how='left')"
   ]
  },
  {
   "cell_type": "code",
   "execution_count": 23,
   "id": "a540d0cc",
   "metadata": {},
   "outputs": [],
   "source": [
    "train_data = train_data.withColumn('artist',\n",
    "                                   when(col('alias').isNull(), col('artist')).\\\n",
    "                                   otherwise(col('alias')))"
   ]
  },
  {
   "cell_type": "code",
   "execution_count": 24,
   "id": "2589c85f",
   "metadata": {},
   "outputs": [],
   "source": [
    "train_data = train_data.withColumn('artist', col('artist').cast(IntegerType())).drop('alias')"
   ]
  },
  {
   "cell_type": "code",
   "execution_count": 25,
   "id": "8b854526",
   "metadata": {},
   "outputs": [
    {
     "data": {
      "text/plain": [
       "DataFrame[artist: int, user: int, count: int]"
      ]
     },
     "execution_count": 25,
     "metadata": {},
     "output_type": "execute_result"
    }
   ],
   "source": [
    "train_data.cache()"
   ]
  },
  {
   "cell_type": "code",
   "execution_count": 27,
   "id": "3de8b1fe",
   "metadata": {},
   "outputs": [
    {
     "name": "stderr",
     "output_type": "stream",
     "text": [
      "                                                                                \r"
     ]
    },
    {
     "data": {
      "text/plain": [
       "24296858"
      ]
     },
     "execution_count": 27,
     "metadata": {},
     "output_type": "execute_result"
    }
   ],
   "source": [
    "train_data.count()"
   ]
  },
  {
   "cell_type": "markdown",
   "id": "17aa7e18",
   "metadata": {},
   "source": [
    "# Alternating Least Squares Algorithm"
   ]
  },
  {
   "cell_type": "code",
   "execution_count": 28,
   "id": "104ffaa0",
   "metadata": {},
   "outputs": [
    {
     "name": "stderr",
     "output_type": "stream",
     "text": [
      "24/07/02 22:12:41 WARN InstanceBuilder: Failed to load implementation from:dev.ludovic.netlib.blas.JNIBLAS\n",
      "24/07/02 22:12:41 WARN InstanceBuilder: Failed to load implementation from:dev.ludovic.netlib.blas.VectorBLAS\n",
      "24/07/02 22:12:42 WARN InstanceBuilder: Failed to load implementation from:dev.ludovic.netlib.lapack.JNILAPACK\n",
      "                                                                                \r"
     ]
    }
   ],
   "source": [
    "model = ALS(rank=10, seed=0, maxIter=5, regParam=0.1,\n",
    "            implicitPrefs=True, alpha=1.0, userCol='user',\n",
    "            itemCol='artist', ratingCol='count').fit(train_data)"
   ]
  },
  {
   "cell_type": "code",
   "execution_count": 29,
   "id": "93ce9536",
   "metadata": {},
   "outputs": [
    {
     "name": "stdout",
     "output_type": "stream",
     "text": [
      "+---+-----------------------------------------------------------------------------------------------------------------------------+\n",
      "|id |features                                                                                                                     |\n",
      "+---+-----------------------------------------------------------------------------------------------------------------------------+\n",
      "|90 |[0.16020626, 0.20717518, -0.17194685, 0.060384676, 0.0627277, 0.54658705, -0.40481892, 0.43657345, -0.10396776, -0.042728294]|\n",
      "+---+-----------------------------------------------------------------------------------------------------------------------------+\n",
      "only showing top 1 row\n",
      "\n"
     ]
    }
   ],
   "source": [
    "model.userFactors.show(1, truncate=False)"
   ]
  },
  {
   "cell_type": "markdown",
   "id": "96d46841",
   "metadata": {},
   "source": [
    "# Spot Checking Recommendations"
   ]
  },
  {
   "cell_type": "code",
   "execution_count": 30,
   "id": "e9bfe2e6",
   "metadata": {},
   "outputs": [],
   "source": [
    "user_id = 2093760"
   ]
  },
  {
   "cell_type": "code",
   "execution_count": 31,
   "id": "3773170b",
   "metadata": {},
   "outputs": [],
   "source": [
    "existind_artist_ids = train_data.filter(train_data.user == user_id).select('artist').collect()"
   ]
  },
  {
   "cell_type": "code",
   "execution_count": 32,
   "id": "8d69556b",
   "metadata": {},
   "outputs": [],
   "source": [
    "existind_artist_ids = [i[0] for i in existind_artist_ids]"
   ]
  },
  {
   "cell_type": "code",
   "execution_count": 33,
   "id": "40f864fb",
   "metadata": {},
   "outputs": [
    {
     "name": "stderr",
     "output_type": "stream",
     "text": [
      "[Stage 154:===================>                                     (1 + 2) / 3]\r"
     ]
    },
    {
     "name": "stdout",
     "output_type": "stream",
     "text": [
      "+-------+---------------+\n",
      "|     id|           name|\n",
      "+-------+---------------+\n",
      "|   1180|     David Gray|\n",
      "|    378|  Blackalicious|\n",
      "|    813|     Jurassic 5|\n",
      "|1255340|The Saw Doctors|\n",
      "|    942|         Xzibit|\n",
      "+-------+---------------+\n",
      "\n"
     ]
    },
    {
     "name": "stderr",
     "output_type": "stream",
     "text": [
      "\r",
      "                                                                                \r"
     ]
    }
   ],
   "source": [
    "artist_by_id.filter(col('id').isin(existind_artist_ids)).show()"
   ]
  },
  {
   "cell_type": "code",
   "execution_count": 34,
   "id": "4ad49a67",
   "metadata": {},
   "outputs": [],
   "source": [
    "user_subset = train_data.select('user').where(col('user') == user_id).distinct()"
   ]
  },
  {
   "cell_type": "code",
   "execution_count": 35,
   "id": "ceb6902e",
   "metadata": {},
   "outputs": [],
   "source": [
    "top_predictions = model.recommendForUserSubset(user_subset, 5)"
   ]
  },
  {
   "cell_type": "code",
   "execution_count": 36,
   "id": "b11233c1",
   "metadata": {},
   "outputs": [
    {
     "name": "stderr",
     "output_type": "stream",
     "text": [
      "[Stage 199:============================================>           (8 + 2) / 10]\r"
     ]
    },
    {
     "name": "stdout",
     "output_type": "stream",
     "text": [
      "+-------+--------------------+\n",
      "|   user|     recommendations|\n",
      "+-------+--------------------+\n",
      "|2093760|[{2814, 0.0294106...|\n",
      "+-------+--------------------+\n",
      "\n"
     ]
    },
    {
     "name": "stderr",
     "output_type": "stream",
     "text": [
      "\r",
      "                                                                                \r"
     ]
    }
   ],
   "source": [
    "top_predictions.show()"
   ]
  },
  {
   "cell_type": "code",
   "execution_count": 37,
   "id": "44bb4ee6",
   "metadata": {},
   "outputs": [
    {
     "name": "stderr",
     "output_type": "stream",
     "text": [
      "                                                                                \r"
     ]
    }
   ],
   "source": [
    "top_predictions_pandas = top_predictions.toPandas()"
   ]
  },
  {
   "cell_type": "code",
   "execution_count": 38,
   "id": "d0a0a459",
   "metadata": {},
   "outputs": [
    {
     "data": {
      "text/html": [
       "<div>\n",
       "<style scoped>\n",
       "    .dataframe tbody tr th:only-of-type {\n",
       "        vertical-align: middle;\n",
       "    }\n",
       "\n",
       "    .dataframe tbody tr th {\n",
       "        vertical-align: top;\n",
       "    }\n",
       "\n",
       "    .dataframe thead th {\n",
       "        text-align: right;\n",
       "    }\n",
       "</style>\n",
       "<table border=\"1\" class=\"dataframe\">\n",
       "  <thead>\n",
       "    <tr style=\"text-align: right;\">\n",
       "      <th></th>\n",
       "      <th>user</th>\n",
       "      <th>recommendations</th>\n",
       "    </tr>\n",
       "  </thead>\n",
       "  <tbody>\n",
       "    <tr>\n",
       "      <th>0</th>\n",
       "      <td>2093760</td>\n",
       "      <td>[(2814, 0.029410677030682564), (1300642, 0.028...</td>\n",
       "    </tr>\n",
       "  </tbody>\n",
       "</table>\n",
       "</div>"
      ],
      "text/plain": [
       "      user                                    recommendations\n",
       "0  2093760  [(2814, 0.029410677030682564), (1300642, 0.028..."
      ]
     },
     "execution_count": 38,
     "metadata": {},
     "output_type": "execute_result"
    }
   ],
   "source": [
    "top_predictions_pandas"
   ]
  },
  {
   "cell_type": "code",
   "execution_count": 39,
   "id": "33675e71",
   "metadata": {},
   "outputs": [],
   "source": [
    "recommended_artist_ids = [i[0] for i in top_predictions_pandas.recommendations[0]]"
   ]
  },
  {
   "cell_type": "code",
   "execution_count": 40,
   "id": "9b9a9abc",
   "metadata": {},
   "outputs": [
    {
     "name": "stderr",
     "output_type": "stream",
     "text": [
      "\r",
      "[Stage 274:>                                                        (0 + 3) / 3]\r"
     ]
    },
    {
     "name": "stdout",
     "output_type": "stream",
     "text": [
      "+-------+----------+\n",
      "|     id|      name|\n",
      "+-------+----------+\n",
      "|   2814|   50 Cent|\n",
      "|   4605|Snoop Dogg|\n",
      "|1007614|     Jay-Z|\n",
      "|1001819|      2Pac|\n",
      "|1300642|  The Game|\n",
      "+-------+----------+\n",
      "\n"
     ]
    },
    {
     "name": "stderr",
     "output_type": "stream",
     "text": [
      "\r",
      "[Stage 274:===================>                                     (1 + 2) / 3]\r",
      "\r",
      "                                                                                \r"
     ]
    }
   ],
   "source": [
    "artist_by_id.filter(col('id').isin(recommended_artist_ids)).show()"
   ]
  },
  {
   "cell_type": "markdown",
   "id": "5058b9a2",
   "metadata": {},
   "source": [
    "# Evaluating Recommendation Quality"
   ]
  },
  {
   "cell_type": "code",
   "execution_count": 41,
   "id": "c3dfa3fe",
   "metadata": {},
   "outputs": [],
   "source": [
    "def area_under_curve(positive_data: DataFrame, b_all_artist_ids: List[int], predict_function) -> float:\n",
    "    positive_predictions = predict_function(positive_data.select(\"user\", \"artist\")).withColumnRenamed(\"prediction\", \"positivePrediction\")\n",
    "\n",
    "    def negative_data_generation(user_artist_tuples):\n",
    "        user_negative_artists = []\n",
    "        for user, pos_artist_ids in user_artist_tuples:\n",
    "            pos_artist_id_set = set(pos_artist_ids)\n",
    "            negative_artists = set()\n",
    "            while len(negative_artists) < len(pos_artist_id_set):\n",
    "                artist_id = b_all_artist_ids[random.randint(0, len(b_all_artist_ids) - 1)]\n",
    "                if artist_id not in pos_artist_id_set:\n",
    "                    negative_artists.add(artist_id)\n",
    "            user_negative_artists.extend([(user, artist_id) for artist_id in negative_artists])\n",
    "        return user_negative_artists\n",
    "\n",
    "    user_artist_rdd = positive_data.select(\"user\", \"artist\").rdd.groupByKey().mapValues(list).collect()\n",
    "    negative_data = spark.createDataFrame(negative_data_generation(user_artist_rdd), schema=[\"user\", \"artist\"])\n",
    "\n",
    "    negative_predictions = predict_function(negative_data).withColumnRenamed(\"prediction\", \"negativePrediction\")\n",
    "\n",
    "    joined_predictions = positive_predictions.join(negative_predictions, \"user\").select(\"user\", \"positivePrediction\", \"negativePrediction\").cache()\n",
    "\n",
    "    all_counts = joined_predictions.groupBy(\"user\").agg(count(lit(1)).alias(\"total\")).select(\"user\", \"total\")\n",
    "    correct_counts = joined_predictions.filter(col(\"positivePrediction\") > col(\"negativePrediction\")).groupBy(\"user\").agg(count(\"user\").alias(\"correct\")).select(\"user\", \"correct\")\n",
    "\n",
    "    mean_auc = all_counts.join(correct_counts, [\"user\"], \"left_outer\").select(col(\"user\"), (coalesce(col(\"correct\"), lit(0)) / col(\"total\")).alias(\"auc\")).agg(mean(\"auc\")).collect()[0][0]\n",
    "\n",
    "    joined_predictions.unpersist()\n",
    "\n",
    "    return mean_auc"
   ]
  },
  {
   "cell_type": "code",
   "execution_count": 42,
   "id": "af67d85c",
   "metadata": {},
   "outputs": [],
   "source": [
    "all_data = user_artist_df.join(broadcast(artist_alias), 'artist', how='left') \\\n",
    "        .withColumn('artist', when(col('alias').isNull(), col('artist'))\\\n",
    "        .otherwise(col('alias'))) \\\n",
    "        .withColumn('artist', col('artist').cast(IntegerType())).drop('alias')"
   ]
  },
  {
   "cell_type": "code",
   "execution_count": 43,
   "id": "391bdc1e",
   "metadata": {},
   "outputs": [
    {
     "data": {
      "text/plain": [
       "DataFrame[artist: int, user: int, count: int]"
      ]
     },
     "execution_count": 43,
     "metadata": {},
     "output_type": "execute_result"
    }
   ],
   "source": [
    "train_data, cv_data = all_data.randomSplit([0.9, 0.1], seed=54321)\n",
    "train_data.cache()\n",
    "cv_data.cache()"
   ]
  },
  {
   "cell_type": "code",
   "execution_count": 45,
   "id": "baeb9445",
   "metadata": {},
   "outputs": [
    {
     "name": "stderr",
     "output_type": "stream",
     "text": [
      "                                                                                \r"
     ]
    }
   ],
   "source": [
    "all_artist_ids = all_data.select(\"artist\").distinct()\n",
    "all_artist_ids = [i[0] for i in all_artist_ids.collect()]"
   ]
  },
  {
   "cell_type": "code",
   "execution_count": 46,
   "id": "5f950673",
   "metadata": {},
   "outputs": [
    {
     "name": "stderr",
     "output_type": "stream",
     "text": [
      "                                                                                \r"
     ]
    }
   ],
   "source": [
    "model = ALS(rank=10, seed=0, maxIter=5, regParam=0.1,\n",
    "            implicitPrefs=True, alpha=1.0, userCol='user',\n",
    "            itemCol='artist', ratingCol='count').fit(train_data)"
   ]
  },
  {
   "cell_type": "code",
   "execution_count": 47,
   "id": "02d20919",
   "metadata": {},
   "outputs": [
    {
     "name": "stderr",
     "output_type": "stream",
     "text": [
      "24/07/02 22:22:57 WARN TaskSetManager: Stage 421 contains a task of very large size (7120 KiB). The maximum recommended task size is 1000 KiB.\n",
      "                                                                                \r"
     ]
    },
    {
     "data": {
      "text/plain": [
       "0.9036149652905634"
      ]
     },
     "execution_count": 47,
     "metadata": {},
     "output_type": "execute_result"
    }
   ],
   "source": [
    "area_under_curve(cv_data, all_artist_ids, model.transform)"
   ]
  },
  {
   "cell_type": "code",
   "execution_count": 58,
   "id": "e078b6af",
   "metadata": {},
   "outputs": [],
   "source": [
    "def predict_most_listened(train):\n",
    "    listen_counts = train.groupBy(\"artist\")\\\n",
    "                        .agg(_sum(\"count\").alias(\"prediction\"))\\\n",
    "                        .select(\"artist\", \"prediction\")\n",
    "    return all_data.join(listen_counts, \"artist\", \"left_outer\").select(\"user\", \"artist\", \"prediction\")"
   ]
  },
  {
   "cell_type": "code",
   "execution_count": 62,
   "id": "3779cd44",
   "metadata": {},
   "outputs": [],
   "source": [
    "predict_most_listened(train_data)"
   ]
  },
  {
   "cell_type": "code",
   "execution_count": null,
   "id": "2cbd7c3c",
   "metadata": {},
   "outputs": [],
   "source": [
    "area_under_curve(cv_data, all_artist_ids, predict_most_listened(train_data))"
   ]
  },
  {
   "cell_type": "markdown",
   "id": "c0d399f1",
   "metadata": {},
   "source": [
    "# Hyperparameter Selection"
   ]
  },
  {
   "cell_type": "code",
   "execution_count": null,
   "id": "f45518ae",
   "metadata": {},
   "outputs": [],
   "source": [
    "ranks = [5, 30]\n",
    "reg_params = [4.0, 0.0001]\n",
    "alphas = [1.0, 40.0]\n",
    "hyperparam_combinations = list(product(*[ranks, reg_params, alphas]))\n",
    "\n",
    "evaluations = []\n",
    "\n",
    "for c in hyperparam_combinations:\n",
    "    rank = c[0]\n",
    "    reg_param = c[1]\n",
    "    alpha = c[2]\n",
    "    model = ALS().setSeed(0).setImplicitPrefs(True).setRank(rank).\\\n",
    "    setRegParam(reg_param).setAlpha(alpha).\\\n",
    "    setMaxIter(20).setUserCol(\"user\").\\\n",
    "    setItemCol(\"artist\").setRatingCol(\"count\").\\\n",
    "    setPredictionCol(\"prediction\").fit(train_data)\n",
    "\n",
    "    auc = area_under_curve(cv_data, all_artist_ids, model.transform)\n",
    "\n",
    "    model.userFactors.unpersist()\n",
    "    model.itemFactors.unpersist()\n",
    "\n",
    "    evaluations.append((auc, (rank, regParam, alpha)))\n",
    "\n",
    "evaluations.sort(key=lambda x: x[0], reverse=True)\n",
    "pprint(evaluations)"
   ]
  },
  {
   "cell_type": "markdown",
   "id": "6bdfb07b",
   "metadata": {},
   "source": [
    "# Making Recommendations"
   ]
  },
  {
   "cell_type": "code",
   "execution_count": null,
   "id": "9c00e5e3",
   "metadata": {},
   "outputs": [],
   "source": [
    "some_users = all_data.select(\"user\").distinct().limit(100)\n",
    "\n",
    "def make_recommendations(model, user_id, num_recs):\n",
    "    user_subset = train_data.select('user').where(col('user') == user_id).distinct()\n",
    "    recommendations = model.recommendForUserSubset(user_subset, num_recs)\n",
    "    return recommendations\n",
    "\n",
    "some_recommendations = [(user_id[0], make_recommendations(model, user_id[0], 5)) for user_id in some_users.collect()]\n",
    "\n",
    "for user_id, recs_df in some_recommendations:\n",
    "    recs_df = recs_df.select(\"recommendations\")\n",
    "    recommended_artists = [row.asDict()[\"artist\"] for row in recs_df.collect()[0][0]]\n",
    "    print(f\"{user_id} -> {', '.join(map(str, recommended_artists))}\")"
   ]
  }
 ],
 "metadata": {
  "kernelspec": {
   "display_name": "Python 3 (ipykernel)",
   "language": "python",
   "name": "python3"
  },
  "language_info": {
   "codemirror_mode": {
    "name": "ipython",
    "version": 3
   },
   "file_extension": ".py",
   "mimetype": "text/x-python",
   "name": "python",
   "nbconvert_exporter": "python",
   "pygments_lexer": "ipython3",
   "version": "3.11.5"
  },
  "toc": {
   "base_numbering": 1,
   "nav_menu": {},
   "number_sections": true,
   "sideBar": true,
   "skip_h1_title": true,
   "title_cell": "Recommending Music and the Audioscrobbler Dataset",
   "title_sidebar": "Contents",
   "toc_cell": true,
   "toc_position": {
    "height": "calc(100% - 180px)",
    "left": "10px",
    "top": "150px",
    "width": "267.59375px"
   },
   "toc_section_display": true,
   "toc_window_display": false
  },
  "varInspector": {
   "cols": {
    "lenName": 16,
    "lenType": 16,
    "lenVar": 40
   },
   "kernels_config": {
    "python": {
     "delete_cmd_postfix": "",
     "delete_cmd_prefix": "del ",
     "library": "var_list.py",
     "varRefreshCmd": "print(var_dic_list())"
    },
    "r": {
     "delete_cmd_postfix": ") ",
     "delete_cmd_prefix": "rm(",
     "library": "var_list.r",
     "varRefreshCmd": "cat(var_dic_list()) "
    }
   },
   "types_to_exclude": [
    "module",
    "function",
    "builtin_function_or_method",
    "instance",
    "_Feature"
   ],
   "window_display": false
  }
 },
 "nbformat": 4,
 "nbformat_minor": 5
}
