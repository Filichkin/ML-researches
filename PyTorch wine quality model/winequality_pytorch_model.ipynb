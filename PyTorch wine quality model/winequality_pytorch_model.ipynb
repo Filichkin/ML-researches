{
 "cells": [
  {
   "cell_type": "markdown",
   "id": "a57c95f4",
   "metadata": {
    "toc": true
   },
   "source": [
    "<h1>Wine quality model<span class=\"tocSkip\"></span></h1>\n",
    "<div class=\"toc\"><ul class=\"toc-item\"><li><span><a href=\"#Загрузка-данных\" data-toc-modified-id=\"Загрузка-данных-1\"><span class=\"toc-item-num\">1&nbsp;&nbsp;</span>Загрузка данных</a></span></li><li><span><a href=\"#Выделение-признаков\" data-toc-modified-id=\"Выделение-признаков-2\"><span class=\"toc-item-num\">2&nbsp;&nbsp;</span>Выделение признаков</a></span></li><li><span><a href=\"#Разбивка-на-тренировочную-и-валидационную-выборки,-нормализация-признаков\" data-toc-modified-id=\"Разбивка-на-тренировочную-и-валидационную-выборки,-нормализация-признаков-3\"><span class=\"toc-item-num\">3&nbsp;&nbsp;</span>Разбивка на тренировочную и валидационную выборки, нормализация признаков</a></span></li><li><span><a href=\"#Создание-модели\" data-toc-modified-id=\"Создание-модели-4\"><span class=\"toc-item-num\">4&nbsp;&nbsp;</span>Создание модели</a></span></li><li><span><a href=\"#Предсказания-модели\" data-toc-modified-id=\"Предсказания-модели-5\"><span class=\"toc-item-num\">5&nbsp;&nbsp;</span>Предсказания модели</a></span></li></ul></div>"
   ]
  },
  {
   "cell_type": "markdown",
   "id": "3d0b0224",
   "metadata": {},
   "source": [
    "Третья по сложности задача физики — выбор подходящего вина для празднования открытий. Загрузите данные о винах из создайте новую модель с соответствующим количеством входных параметров"
   ]
  },
  {
   "cell_type": "code",
   "execution_count": 1,
   "id": "4c348648",
   "metadata": {},
   "outputs": [],
   "source": [
    "import torch\n",
    "import torch.nn as nn\n",
    "import torch.optim as optim\n",
    "\n",
    "from collections import OrderedDict"
   ]
  },
  {
   "cell_type": "markdown",
   "id": "a1750aec",
   "metadata": {},
   "source": [
    "### Загрузка данных"
   ]
  },
  {
   "cell_type": "code",
   "execution_count": 2,
   "id": "53851b07",
   "metadata": {},
   "outputs": [],
   "source": [
    "wine_path = '/Users/alexfil/Desktop/PyTorch/data/winequality-white.csv'"
   ]
  },
  {
   "cell_type": "code",
   "execution_count": 3,
   "id": "5fa346ae",
   "metadata": {},
   "outputs": [],
   "source": [
    "wineq_numpy = np.loadtxt(wine_path, dtype=np.float32, delimiter=';', skiprows=1)\n",
    "wineq = torch.from_numpy(wineq_numpy)"
   ]
  },
  {
   "cell_type": "markdown",
   "id": "57e64111",
   "metadata": {},
   "source": [
    "### Выделение признаков"
   ]
  },
  {
   "cell_type": "code",
   "execution_count": 5,
   "id": "4f637ccd",
   "metadata": {},
   "outputs": [
    {
     "data": {
      "text/plain": [
       "(tensor([[ 7.0000,  0.2700,  0.3600,  ...,  3.0000,  0.4500,  8.8000],\n",
       "         [ 6.3000,  0.3000,  0.3400,  ...,  3.3000,  0.4900,  9.5000],\n",
       "         [ 8.1000,  0.2800,  0.4000,  ...,  3.2600,  0.4400, 10.1000],\n",
       "         ...,\n",
       "         [ 6.6000,  0.3200,  0.3600,  ...,  3.1500,  0.4600,  9.6000],\n",
       "         [ 6.5000,  0.2400,  0.1900,  ...,  2.9900,  0.4600,  9.4000],\n",
       "         [ 5.5000,  0.2900,  0.3000,  ...,  3.3400,  0.3800, 12.8000]]),\n",
       " torch.Size([4898, 11]))"
      ]
     },
     "execution_count": 5,
     "metadata": {},
     "output_type": "execute_result"
    }
   ],
   "source": [
    "features = wineq[:, :-1]\n",
    "features[:-1], features.shape"
   ]
  },
  {
   "cell_type": "code",
   "execution_count": 6,
   "id": "ea1e9404",
   "metadata": {},
   "outputs": [
    {
     "data": {
      "text/plain": [
       "(tensor([[6.],\n",
       "         [6.],\n",
       "         [6.],\n",
       "         ...,\n",
       "         [6.],\n",
       "         [7.],\n",
       "         [6.]]),\n",
       " torch.Size([4898, 1]))"
      ]
     },
     "execution_count": 6,
     "metadata": {},
     "output_type": "execute_result"
    }
   ],
   "source": [
    "target = wineq[:, -1].unsqueeze(1)\n",
    "target,  target.shape"
   ]
  },
  {
   "cell_type": "markdown",
   "id": "a69bf3b9",
   "metadata": {},
   "source": [
    "### Разбивка на тренировочную и валидационную выборки, нормализация признаков"
   ]
  },
  {
   "cell_type": "code",
   "execution_count": 8,
   "id": "939beb48",
   "metadata": {},
   "outputs": [
    {
     "data": {
      "text/plain": [
       "(4898, 979)"
      ]
     },
     "execution_count": 8,
     "metadata": {},
     "output_type": "execute_result"
    }
   ],
   "source": [
    "n_samples = features.shape[0]\n",
    "n_val = int(0.2 * n_samples)\n",
    "n_samples, n_val"
   ]
  },
  {
   "cell_type": "code",
   "execution_count": 9,
   "id": "d2541cc6",
   "metadata": {},
   "outputs": [
    {
     "data": {
      "text/plain": [
       "(tensor([6.8548e+00, 2.7824e-01, 3.3419e-01, 6.3914e+00, 4.5772e-02, 3.5308e+01,\n",
       "         1.3836e+02, 9.9403e-01, 3.1883e+00, 4.8985e-01, 1.0514e+01]),\n",
       " tensor([7.1211e-01, 1.0160e-02, 1.4646e-02, 2.5726e+01, 4.7733e-04, 2.8924e+02,\n",
       "         1.8061e+03, 8.9455e-06, 2.2801e-02, 1.3025e-02, 1.5144e+00]))"
      ]
     },
     "execution_count": 9,
     "metadata": {},
     "output_type": "execute_result"
    }
   ],
   "source": [
    "features_mean = torch.mean(features, dim=0)\n",
    "features_var = torch.var(features, dim=0)\n",
    "features_mean, features_var"
   ]
  },
  {
   "cell_type": "code",
   "execution_count": 10,
   "id": "aabd3a76",
   "metadata": {},
   "outputs": [
    {
     "data": {
      "text/plain": [
       "(tensor([[ 1.7208e-01, -8.1761e-02,  2.1326e-01,  ..., -1.2468e+00,\n",
       "          -3.4915e-01, -1.3930e+00],\n",
       "         [-6.5743e-01,  2.1587e-01,  4.7996e-02,  ...,  7.3995e-01,\n",
       "           1.3422e-03, -8.2419e-01],\n",
       "         [ 1.4756e+00,  1.7450e-02,  5.4378e-01,  ...,  4.7505e-01,\n",
       "          -4.3677e-01, -3.3663e-01],\n",
       "         ...,\n",
       "         [-4.2043e-01, -3.7940e-01, -1.1915e+00,  ..., -1.3130e+00,\n",
       "          -2.6153e-01, -9.0545e-01],\n",
       "         [-1.6054e+00,  1.1666e-01, -2.8253e-01,  ...,  1.0049e+00,\n",
       "          -9.6251e-01,  1.8574e+00],\n",
       "         [-1.0129e+00, -6.7703e-01,  3.7852e-01,  ...,  4.7505e-01,\n",
       "          -1.4882e+00,  1.0448e+00]]),\n",
       " torch.Size([4898, 11]))"
      ]
     },
     "execution_count": 10,
     "metadata": {},
     "output_type": "execute_result"
    }
   ],
   "source": [
    "features_normalized = (features - features_mean) / torch.sqrt(features_var)\n",
    "features_normalized, features_normalized.shape"
   ]
  },
  {
   "cell_type": "code",
   "execution_count": 11,
   "id": "1cb2ac53",
   "metadata": {},
   "outputs": [],
   "source": [
    "shuffled_indices = torch.randperm(n_samples)\n",
    "train_indices = shuffled_indices[:-n_val]\n",
    "val_indices = shuffled_indices[-n_val:]"
   ]
  },
  {
   "cell_type": "code",
   "execution_count": 39,
   "id": "66125118",
   "metadata": {},
   "outputs": [],
   "source": [
    "y_train = target[train_indices]\n",
    "X_train = features_normalized[train_indices]\n",
    "\n",
    "y_val = target[val_indices]\n",
    "X_val = features_normalized[val_indices]"
   ]
  },
  {
   "cell_type": "code",
   "execution_count": 40,
   "id": "5505cf6c",
   "metadata": {},
   "outputs": [
    {
     "data": {
      "text/plain": [
       "(torch.Size([3919, 1]), torch.Size([3919, 11]))"
      ]
     },
     "execution_count": 40,
     "metadata": {},
     "output_type": "execute_result"
    }
   ],
   "source": [
    "y_train.shape, X_train.shape"
   ]
  },
  {
   "cell_type": "code",
   "execution_count": 41,
   "id": "ca3d30e5",
   "metadata": {},
   "outputs": [
    {
     "data": {
      "text/plain": [
       "(torch.Size([979, 1]), torch.Size([979, 11]))"
      ]
     },
     "execution_count": 41,
     "metadata": {},
     "output_type": "execute_result"
    }
   ],
   "source": [
    "y_val.shape, X_val.shape"
   ]
  },
  {
   "cell_type": "markdown",
   "id": "1c542f76",
   "metadata": {},
   "source": [
    "### Создание модели"
   ]
  },
  {
   "cell_type": "markdown",
   "id": "17b25dde",
   "metadata": {},
   "source": [
    "Модель переходит от 11 входных признаков до 100 скрытых признаков, пропускает их через функцию активации ReLU и тд и, наконец, объединяет получившиеся 25 чисел в один выходной признак"
   ]
  },
  {
   "cell_type": "code",
   "execution_count": 42,
   "id": "aea66976",
   "metadata": {},
   "outputs": [],
   "source": [
    "def training_loop(n_epochs, optimizer, model, loss_fn, X_train, X_val,\n",
    "              y_train, y_val):\n",
    "    for epoch in range(1, n_epochs + 1):\n",
    "        pred_train = model(X_train)\n",
    "        loss_train = loss_fn(pred_train, y_train)\n",
    "        \n",
    "        pred_val = model(X_val)\n",
    "        loss_val = loss_fn(pred_val, y_val)\n",
    "        \n",
    "        optimizer.zero_grad()\n",
    "        loss_train.backward()\n",
    "        optimizer.step()\n",
    "        if epoch == 1 or epoch % 500 == 0:\n",
    "            print(f'Epoch {epoch}, Training loss {loss_train.item():.4f},'\n",
    "                  f'Validation loss {loss_val.item():.4f}')"
   ]
  },
  {
   "cell_type": "code",
   "execution_count": 43,
   "id": "405626e6",
   "metadata": {},
   "outputs": [],
   "source": [
    "seq_model_wine = nn.Sequential(\n",
    "    nn.Linear(11, 100),\n",
    "    nn.ReLU(),\n",
    "    nn.Linear(100, 50),\n",
    "    nn.ReLU(),\n",
    "    nn.Linear(50, 25),\n",
    "    nn.ReLU(),\n",
    "    nn.Linear(25, 1)\n",
    ")\n",
    "optimizer = optim.SGD(seq_model_wine.parameters(), lr=1e-3)"
   ]
  },
  {
   "cell_type": "code",
   "execution_count": 44,
   "id": "ea7b5319",
   "metadata": {},
   "outputs": [
    {
     "data": {
      "text/plain": [
       "Sequential(\n",
       "  (0): Linear(in_features=11, out_features=100, bias=True)\n",
       "  (1): ReLU()\n",
       "  (2): Linear(in_features=100, out_features=50, bias=True)\n",
       "  (3): ReLU()\n",
       "  (4): Linear(in_features=50, out_features=25, bias=True)\n",
       "  (5): ReLU()\n",
       "  (6): Linear(in_features=25, out_features=1, bias=True)\n",
       ")"
      ]
     },
     "execution_count": 44,
     "metadata": {},
     "output_type": "execute_result"
    }
   ],
   "source": [
    "seq_model_wine"
   ]
  },
  {
   "cell_type": "code",
   "execution_count": 45,
   "id": "8dde6672",
   "metadata": {},
   "outputs": [
    {
     "name": "stdout",
     "output_type": "stream",
     "text": [
      "Epoch 1, Training loss 34.1274,Validation loss 34.2607\n",
      "Epoch 500, Training loss 0.8875,Validation loss 0.9613\n",
      "Epoch 1000, Training loss 0.6625,Validation loss 0.7403\n",
      "Epoch 1500, Training loss 0.5811,Validation loss 0.6542\n",
      "Epoch 2000, Training loss 0.5449,Validation loss 0.6127\n",
      "Epoch 2500, Training loss 0.5260,Validation loss 0.5901\n",
      "Epoch 3000, Training loss 0.5142,Validation loss 0.5761\n",
      "Epoch 3500, Training loss 0.5057,Validation loss 0.5666\n",
      "Epoch 4000, Training loss 0.4992,Validation loss 0.5597\n",
      "Epoch 4500, Training loss 0.4940,Validation loss 0.5543\n",
      "Epoch 5000, Training loss 0.4896,Validation loss 0.5502\n"
     ]
    }
   ],
   "source": [
    "training_loop(\n",
    "    n_epochs=5000,\n",
    "    optimizer=optimizer,\n",
    "    model=seq_model_wine,\n",
    "    loss_fn=nn.MSELoss(),\n",
    "    X_train=X_train,\n",
    "    X_val=X_val,\n",
    "    y_train=y_train,\n",
    "    y_val=y_val\n",
    ")"
   ]
  },
  {
   "cell_type": "markdown",
   "id": "ce9d9eef",
   "metadata": {},
   "source": [
    "### Предсказания модели"
   ]
  },
  {
   "cell_type": "code",
   "execution_count": 46,
   "id": "50b4cd48",
   "metadata": {},
   "outputs": [],
   "source": [
    "pred = seq_model_wine(X_val)"
   ]
  },
  {
   "cell_type": "code",
   "execution_count": 47,
   "id": "8155f851",
   "metadata": {},
   "outputs": [
    {
     "data": {
      "text/plain": [
       "tensor([[6.4918],\n",
       "        [5.1732],\n",
       "        [4.8201],\n",
       "        [5.2175],\n",
       "        [5.2648]], grad_fn=<SliceBackward0>)"
      ]
     },
     "execution_count": 47,
     "metadata": {},
     "output_type": "execute_result"
    }
   ],
   "source": [
    "pred[:5]"
   ]
  },
  {
   "cell_type": "code",
   "execution_count": null,
   "id": "5d9d11a5",
   "metadata": {},
   "outputs": [],
   "source": []
  }
 ],
 "metadata": {
  "kernelspec": {
   "display_name": "Python 3 (ipykernel)",
   "language": "python",
   "name": "python3"
  },
  "language_info": {
   "codemirror_mode": {
    "name": "ipython",
    "version": 3
   },
   "file_extension": ".py",
   "mimetype": "text/x-python",
   "name": "python",
   "nbconvert_exporter": "python",
   "pygments_lexer": "ipython3",
   "version": "3.11.5"
  },
  "toc": {
   "base_numbering": 1,
   "nav_menu": {},
   "number_sections": true,
   "sideBar": true,
   "skip_h1_title": true,
   "title_cell": "Winequality model with PyTorch",
   "title_sidebar": "Contents",
   "toc_cell": true,
   "toc_position": {
    "height": "calc(100% - 180px)",
    "left": "10px",
    "top": "150px",
    "width": "267.59375px"
   },
   "toc_section_display": true,
   "toc_window_display": true
  },
  "varInspector": {
   "cols": {
    "lenName": 16,
    "lenType": 16,
    "lenVar": 40
   },
   "kernels_config": {
    "python": {
     "delete_cmd_postfix": "",
     "delete_cmd_prefix": "del ",
     "library": "var_list.py",
     "varRefreshCmd": "print(var_dic_list())"
    },
    "r": {
     "delete_cmd_postfix": ") ",
     "delete_cmd_prefix": "rm(",
     "library": "var_list.r",
     "varRefreshCmd": "cat(var_dic_list()) "
    }
   },
   "types_to_exclude": [
    "module",
    "function",
    "builtin_function_or_method",
    "instance",
    "_Feature"
   ],
   "window_display": false
  }
 },
 "nbformat": 4,
 "nbformat_minor": 5
}
